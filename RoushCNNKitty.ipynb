{
 "cells": [
  {
   "cell_type": "markdown",
   "metadata": {
    "_cell_guid": "657faca0-c88f-4138-8c62-cf9974e0c894",
    "_uuid": "b30a120404b8e104774a292b45f0902e89acef68"
   },
   "source": [
    "#Roush Kitty Tool\n"
   ]
  },
  {
   "cell_type": "code",
   "execution_count": null,
   "metadata": {},
   "outputs": [],
   "source": [
    "! export PATH=/usr/local/cuda-10.0/bin:$PATH\n",
    "!export LD_LIBRARY_PATH=$LD_LIBRARY_PATH:/usr/local/cuda-10.0/lib64/\n",
    "#!config.gpu_options.allow_growth = True\n"
   ]
  },
  {
   "cell_type": "code",
   "execution_count": null,
   "metadata": {
    "_cell_guid": "d4c4a3a8-93af-4cd2-a95b-32a2526ac3a2",
    "_uuid": "151b0f031d10c081017bee0831d1e276148b413b"
   },
   "outputs": [],
   "source": [
    "%matplotlib inline\n",
    "import numpy as np\n",
    "import pandas as pd\n",
    "import matplotlib.pyplot as plt\n",
    "from mpl_toolkits.axes_grid1 import ImageGrid\n",
    "\n",
    "from os.path import join\n",
    "from tqdm import tqdm\n",
    "from sklearn.metrics import log_loss, accuracy_score\n",
    "from sklearn.linear_model import LogisticRegression\n",
    "\n",
    "from keras.preprocessing import image\n",
    "from keras.applications import xception\n",
    "from keras.callbacks import TensorBoard, ModelCheckpoint, LearningRateScheduler\n",
    "from keras.applications import Xception\n",
    "from keras.models import Model\n",
    "from keras.layers import Dense, Dropout\n",
    "from keras.optimizers import RMSprop\n",
    "from keras.preprocessing.image import ImageDataGenerator\n",
    "from keras.regularizers import l2"
   ]
  },
  {
   "cell_type": "markdown",
   "metadata": {
    "_cell_guid": "7024f870-2c6f-4b86-a64e-adab46e34c1b",
    "_uuid": "48c9f0e65f26fa26375dd32289f9c59bd1353d1a"
   },
   "source": [
    "#loadLabels"
   ]
  },
  {
   "cell_type": "code",
   "execution_count": null,
   "metadata": {
    "_cell_guid": "8bcb2bda-88dc-4ad8-9177-0c126401c3e1",
    "_uuid": "3f62e82d998e8b2ba3999542492e632c5083a901"
   },
   "outputs": [],
   "source": [
    "INPUT_SIZE = 299 #image input for xception model\n",
    "NUM_CLASSES = 58 #Number of cat breeds\n",
    "SEED = 42  #meaning of life\n",
    "base_dir = '' #base directory\n",
    "\n",
    "labels = pd.read_csv(join(base_dir, 'catLabels.csv')) #getOurLabels\n"
   ]
  },
  {
   "cell_type": "code",
   "execution_count": null,
   "metadata": {
    "_cell_guid": "f55b18df-3698-4146-9157-913227416e21",
    "_uuid": "ab322ce7a697d43a883b1725c7f71bf4486fd5ed"
   },
   "outputs": [],
   "source": [
    "breedsList = list(labels.groupby('breed').count().sort_values(by='id', ascending=False).head(NUM_CLASSES).index)\n",
    "labels = labels[labels['breed'].isin(breedsList)]\n",
    "labels['target'] = 1\n",
    "labels['rank'] = labels['breed'].rank(ascending=0,method='dense')\n",
    "labels_pivot = labels.pivot('id', 'breed', 'target').reset_index().fillna(0)\n",
    "np.random.seed(seed=SEED)\n",
    "rnd = np.random.random(len(labels))\n",
    "#Split 80:20 train validation\n",
    "trainX = rnd < 0.8\n",
    "validX = rnd >= 0.8\n",
    "y_train = labels_pivot[breedsList].values\n",
    "trainy = y_train[trainX]\n",
    "valy = y_train[validX]"
   ]
  },
  {
   "cell_type": "code",
   "execution_count": null,
   "metadata": {
    "_cell_guid": "c48fc864-d70f-4045-96eb-12de12c0ad41",
    "_uuid": "7d26cc67909b5bd70173b5f2ed8352b210e06fb3"
   },
   "outputs": [],
   "source": [
    "def read_img(img_id, train_or_test, size):  #takenFromKaggle\n",
    "    \"\"\"Read and resize image.\n",
    "    # Arguments\n",
    "        img_id: string\n",
    "        train_or_test: string 'train' or 'test'.\n",
    "        size: resize the original image.\n",
    "    # Returns\n",
    "        Image as numpy array.\n",
    "    \"\"\"\n",
    "    img = image.load_img(join(base_dir, train_or_test, '%s.jpg' % img_id), target_size=size)\n",
    "    img = image.img_to_array(img)\n",
    "    return img"
   ]
  },
  {
   "cell_type": "markdown",
   "metadata": {
    "_cell_guid": "c9e29a84-5cad-49d7-9290-5f7755cb1d43",
    "_uuid": "e8f19dc62979a04aaa396f9cd9b990751d372286"
   },
   "source": [
    "# Get images and make dimension size of 299 for xception"
   ]
  },
  {
   "cell_type": "code",
   "execution_count": null,
   "metadata": {
    "_cell_guid": "fe14c29b-42a0-45cb-a7a0-5f201c984ff6",
    "_uuid": "7e5f115592134a49b4997903ccc9e7497797be1e"
   },
   "outputs": [],
   "source": [
    "x_train = np.zeros((len(labels), INPUT_SIZE, INPUT_SIZE, 3), dtype='float32')\n",
    "for i, img_id in tqdm(enumerate(labels['id'])):\n",
    "    img = read_img(img_id, 'train', (INPUT_SIZE, INPUT_SIZE))\n",
    "    x = xception.preprocess_input(np.expand_dims(img.copy(), axis=0))\n",
    "    x_train[i] = x\n",
    "print('Train Images shape: {} size: {:,}'.format(x_train.shape, x_train.size))"
   ]
  },
  {
   "cell_type": "code",
   "execution_count": null,
   "metadata": {},
   "outputs": [],
   "source": [
    "#setup our train and val\n",
    "Xtrain = x_train[trainX]\n",
    "Xval = x_train[validX]\n",
    "print((Xtrain.shape, Xval.shape, trainy.shape, valy.shape))"
   ]
  },
  {
   "cell_type": "code",
   "execution_count": null,
   "metadata": {},
   "outputs": [],
   "source": [
    "# lr decay schedule\n",
    "def lr_schedule(epoch): #using base version on kaggle, reduces lr after 80 and 120\n",
    "    \"\"\"Learning Rate Schedule\n",
    "    # Arguments\n",
    "        epoch (int): The number of epochs\n",
    "    # Returns\n",
    "        lr (float32): learning rate\n",
    "    \"\"\"\n",
    "    lr = 1e-4\n",
    "    if epoch > 120:\n",
    "        lr *= 1e-2\n",
    "    elif epoch > 80:\n",
    "        lr *= 1e-1\n",
    "    print('Learning rate: ', lr)\n",
    "    return lr"
   ]
  },
  {
   "cell_type": "code",
   "execution_count": null,
   "metadata": {},
   "outputs": [],
   "source": [
    "#Image augmentation to account for poorly taken cat pictures, as well as generating more samples\n",
    "aug = ImageDataGenerator(rotation_range=20, zoom_range=0.15,\n",
    "\twidth_shift_range=0.2, height_shift_range=0.2, shear_range=0.15,\n",
    "\thorizontal_flip=True, fill_mode=\"nearest\")"
   ]
  },
  {
   "cell_type": "code",
   "execution_count": null,
   "metadata": {},
   "outputs": [],
   "source": [
    "# pretrain dense layer to avoid large gradient to destroy the pretrained model\n",
    "# build model\n",
    "batch_size = 8\n",
    " #using xception as mentioned, imagenet weights rather than None\n",
    "basic_model = Xception(include_top=False, weights='imagenet', pooling='avg')\n",
    "\n",
    "for layer in basic_model.layers:\n",
    "    layer.trainable = False\n",
    "\n",
    "input_tensor = basic_model.input\n",
    "# build top\n",
    "x = basic_model.output\n",
    "x = Dropout(.5)(x) #dropout to help with overfiftting\n",
    "x = Dense(NUM_CLASSES, activation='softmax')(x) #softmax as multiple outputs\n",
    "\n",
    "model = Model(inputs=input_tensor, outputs=x)\n",
    "model.compile(optimizer=RMSprop(1e-3), loss='categorical_crossentropy', metrics=['accuracy'])\n",
    "\n",
    "model.fit_generator(aug.flow(Xtrain, trainy, batch_size=8), validation_data=(Xval,valy), \n",
    "                    epochs=40, \n",
    "                    steps_per_epoch=len(x_train)/batch_size,\n",
    "                    verbose=1)\n",
    "\n",
    "model.save('xception.h5') #saving model in case"
   ]
  },
  {
   "cell_type": "code",
   "execution_count": null,
   "metadata": {},
   "outputs": [],
   "source": []
  },
  {
   "cell_type": "code",
   "execution_count": null,
   "metadata": {},
   "outputs": [],
   "source": []
  },
  {
   "cell_type": "code",
   "execution_count": null,
   "metadata": {},
   "outputs": [],
   "source": []
  },
  {
   "cell_type": "code",
   "execution_count": null,
   "metadata": {},
   "outputs": [],
   "source": []
  },
  {
   "cell_type": "code",
   "execution_count": null,
   "metadata": {},
   "outputs": [],
   "source": [
    "print(\"hi\")"
   ]
  },
  {
   "cell_type": "code",
   "execution_count": null,
   "metadata": {
    "scrolled": false
   },
   "outputs": [],
   "source": [
    "# train with whole model\n",
    "# train model\n",
    "\n",
    "for layer in model.layers:\n",
    "    layer.W_regularizer = l2(1e-2)\n",
    "    layer.trainable = True\n",
    "\n",
    "model.compile(optimizer=RMSprop(lr_schedule(0)), loss='categorical_crossentropy', metrics=['accuracy'])\n",
    "\n",
    "# call backs\n",
    "checkpointer = ModelCheckpoint(filepath='weights_xception.h5', verbose=1,\n",
    "                               save_best_only=True)\n",
    "#to get best version\n",
    "\n",
    "\n",
    "lr = LearningRateScheduler(lr_schedule)\n",
    "\n",
    "# train dense layer\n",
    "model.fit_generator(aug.flow(Xtrain, trainy, batch_size=2), validation_data=(Xval,valy),\n",
    "                    steps_per_epoch=400,\n",
    "                    epochs=150, \n",
    "                    callbacks=[checkpointer, lr],\n",
    "                    initial_epoch=40,\n",
    "                    verbose=1)\n",
    "\n",
    "\n",
    "\n",
    "model.save('xception2.h5') #saveModel"
   ]
  },
  {
   "cell_type": "markdown",
   "metadata": {
    "_cell_guid": "065777fc-0308-4526-823a-4915cd5024be",
    "_uuid": "a1bdd346837a8ad7fbbe1f9b5cb424a33055117d"
   },
   "source": [
    "#Now let's test the model ourselves to make sure"
   ]
  },
  {
   "cell_type": "code",
   "execution_count": null,
   "metadata": {},
   "outputs": [],
   "source": [
    "train_x_test = model.predict(Xtrain, batch_size=16, verbose=1)\n",
    "valid_x_test = model.predict(Xval, batch_size=16, verbose=1)\n",
    "print('Xception train features shape: {} size: {:,}'.format(train_x_test.shape, train_x_test.size))\n",
    "print('Xception valid features shape: {} size: {:,}'.format(valid_x_test.shape, valid_x_test.size))"
   ]
  },
  {
   "cell_type": "code",
   "execution_count": null,
   "metadata": {
    "_cell_guid": "dc8a93f1-1ee6-450d-90a3-8fa77f245b3b",
    "_uuid": "db34ba100fb8a524487ed0b91134b6e65102e3fb"
   },
   "outputs": [],
   "source": [
    "logreg = LogisticRegression(multi_class='multinomial', solver='lbfgs', random_state=SEED, max_iter=10000000)\n",
    "logreg.fit(train_x_test, (trainy * range(NUM_CLASSES)).sum(axis=1))\n",
    "valid_probs = logreg.predict_proba(valid_x_test)\n",
    "valid_preds = logreg.predict(valid_x_test)\n",
    "print('Validation LogLoss {}'.format(log_loss(valy, valid_probs)))\n",
    "print('Validation Accuracy {}'.format(accuracy_score((valy * range(NUM_CLASSES)).sum(axis=1), valid_preds)))"
   ]
  },
  {
   "cell_type": "markdown",
   "metadata": {
    "_cell_guid": "28ac6c7c-99c0-4afa-b396-58a5524e6ebc",
    "_uuid": "646d482fb5c7b2a792abfbb6c05dd72a94f353a7"
   },
   "source": [
    "# Check errors\n",
    "#See which ones we get wrong for further improvements"
   ]
  },
  {
   "cell_type": "code",
   "execution_count": null,
   "metadata": {
    "_cell_guid": "ff6da045-b279-4d49-a581-41fe6525b797",
    "_uuid": "17ae76c56f08f8602ce0456c9b14f33581da76d5"
   },
   "outputs": [],
   "source": [
    "valid_breeds = (valy * range(NUM_CLASSES)).sum(axis=1)\n",
    "error_idx = (valid_breeds != valid_preds)\n",
    "for img_id, breed, pred in zip(labels.loc[validX, 'id'].values[error_idx],\n",
    "                                [breedsList[int(b)] for b in valid_preds[error_idx]],\n",
    "                                [breedsList[int(b)] for b in valid_breeds[error_idx]]):\n",
    "    fig, ax = plt.subplots(figsize=(5,5))\n",
    "    img = read_img(img_id, 'train', (299, 299))\n",
    "    ax.imshow(img / 255.)\n",
    "    ax.text(10, 250, 'Actual: %s' % pred, color='w', backgroundcolor='r', alpha=0.8)\n",
    "    ax.text(10, 270, 'Prediction: %s' % breed, color='k', backgroundcolor='g', alpha=0.8)\n",
    "    ax.axis('off')\n",
    "    plt.show()                                                    "
   ]
  },
  {
   "cell_type": "code",
   "execution_count": null,
   "metadata": {},
   "outputs": [],
   "source": []
  }
 ],
 "metadata": {
  "kernelspec": {
   "display_name": "Python 3",
   "language": "python",
   "name": "python3"
  },
  "language_info": {
   "codemirror_mode": {
    "name": "ipython",
    "version": 3
   },
   "file_extension": ".py",
   "mimetype": "text/x-python",
   "name": "python",
   "nbconvert_exporter": "python",
   "pygments_lexer": "ipython3",
   "version": "3.6.8"
  }
 },
 "nbformat": 4,
 "nbformat_minor": 1
}
